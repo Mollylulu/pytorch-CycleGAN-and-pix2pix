{
 "cells": [
  {
   "cell_type": "code",
   "execution_count": 39,
   "metadata": {},
   "outputs": [],
   "source": [
    "import shutil\n",
    "import os\n",
    "import glob\n",
    "from sklearn import model_selection"
   ]
  },
  {
   "cell_type": "code",
   "execution_count": 40,
   "metadata": {},
   "outputs": [],
   "source": [
    "def file_list(dir_to_loop):\n",
    "    \"\"\"\n",
    "    遍历生成path下所有文件的绝对路径\n",
    "    \"\"\"\n",
    "    img_lists = glob.glob(os.path.join(dir_to_loop, '*.png'))\n",
    "\n",
    "    return img_lists"
   ]
  },
  {
   "cell_type": "code",
   "execution_count": 41,
   "metadata": {},
   "outputs": [],
   "source": [
    "img_dir = '/data/home/lunaluo/git/pytorch-CycleGAN-and-pix2pix/datasets/nanya_match_v2/dataset_fixed/real'\n",
    "img_lists = file_list(img_dir)\n",
    "# "
   ]
  },
  {
   "cell_type": "code",
   "execution_count": 42,
   "metadata": {},
   "outputs": [
    {
     "data": {
      "text/plain": [
       "'/data/home/lunaluo/git/pytorch-CycleGAN-and-pix2pix/datasets/nanya_match_v2/dataset_fixed/real/464.png'"
      ]
     },
     "execution_count": 42,
     "metadata": {},
     "output_type": "execute_result"
    }
   ],
   "source": [
    "img_lists[0]"
   ]
  },
  {
   "cell_type": "code",
   "execution_count": 43,
   "metadata": {},
   "outputs": [],
   "source": [
    "trainList, valList = model_selection.train_test_split(img_lists, test_size=0.2)"
   ]
  },
  {
   "cell_type": "code",
   "execution_count": 33,
   "metadata": {},
   "outputs": [],
   "source": [
    "root = '/data/home/lunaluo/git/pytorch-CycleGAN-and-pix2pix/datasets/nanya_match_v2'\n",
    "def make_dirs(root):\n",
    "    os.makedirs(os.path.join(root, 'trainA'), exist_ok=True)\n",
    "    os.makedirs(os.path.join(root, 'trainB'), exist_ok=True)\n",
    "    os.makedirs(os.path.join(root, 'testA'), exist_ok=True)\n",
    "    os.makedirs(os.path.join(root, 'testB'), exist_ok=True)\n",
    "make_dirs(root=root)"
   ]
  },
  {
   "cell_type": "code",
   "execution_count": 36,
   "metadata": {},
   "outputs": [],
   "source": [
    "import shutil\n",
    "\n",
    "def move_files(fileList, train=True):\n",
    "    for i in fileList:\n",
    "        temp = i.replace('real', 'template')\n",
    "        if train:\n",
    "            A_path = os.path.join(root, 'trainA')\n",
    "            B_path = os.path.join(root, 'trainB')\n",
    "        else:\n",
    "            A_path = os.path.join(root, 'testA')\n",
    "            B_path = os.path.join(root, 'testB')\n",
    "        shutil.move(i, A_path)\n",
    "        shutil.move(temp, B_path)"
   ]
  },
  {
   "cell_type": "code",
   "execution_count": 37,
   "metadata": {},
   "outputs": [],
   "source": [
    "move_files(trainList)\n",
    "move_files(valList, train=False)"
   ]
  },
  {
   "cell_type": "code",
   "execution_count": 38,
   "metadata": {},
   "outputs": [
    {
     "data": {
      "text/plain": [
       "(399, 100)"
      ]
     },
     "execution_count": 38,
     "metadata": {},
     "output_type": "execute_result"
    }
   ],
   "source": [
    "len(trainList), len(valList)"
   ]
  }
 ],
 "metadata": {
  "interpreter": {
   "hash": "1b0752de7a1e6e9c12f47e1c8d8d754d9b919678c20fb0b67304ba2256b8850e"
  },
  "kernelspec": {
   "display_name": "Python 3.8.10 64-bit ('dnsm': conda)",
   "name": "python3"
  },
  "language_info": {
   "codemirror_mode": {
    "name": "ipython",
    "version": 3
   },
   "file_extension": ".py",
   "mimetype": "text/x-python",
   "name": "python",
   "nbconvert_exporter": "python",
   "pygments_lexer": "ipython3",
   "version": "3.8.10"
  },
  "orig_nbformat": 4
 },
 "nbformat": 4,
 "nbformat_minor": 2
}

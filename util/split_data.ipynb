{
 "cells": [
  {
   "cell_type": "code",
   "execution_count": 22,
   "metadata": {},
   "outputs": [],
   "source": [
    "from sklearn import model_selection\n",
    "import os\n"
   ]
  },
  {
   "cell_type": "code",
   "execution_count": 23,
   "metadata": {},
   "outputs": [],
   "source": [
    "def file_list(path):\n",
    "    \"\"\"\n",
    "    遍历生成path下所有文件的绝对路径\n",
    "    \"\"\"\n",
    "    abspath = []\n",
    "    for filepath,dirnames,filenames in os.walk(path):\n",
    "        for filename in filenames:\n",
    "            abspath.append(os.path.join(filepath, filename))\n",
    "    return abspath"
   ]
  },
  {
   "cell_type": "code",
   "execution_count": 24,
   "metadata": {},
   "outputs": [],
   "source": [
    "img_dir = '/home/lunaluo/new_exp/explore_USL/git/pytorch-CycleGAN-and-pix2pix/datasets/nanya_temp/imgData'\n",
    "img_lists = file_list(img_dir)\n",
    "data_list = []\n",
    "for i in img_lists:\n",
    "    if i.endswith('png'):\n",
    "        data_list.append(i)\n",
    "trainList, valList = model_selection.train_test_split(data_list, test_size=0.2)"
   ]
  },
  {
   "cell_type": "code",
   "execution_count": 26,
   "metadata": {},
   "outputs": [],
   "source": [
    "root = '/home/lunaluo/new_exp/explore_USL/git/pytorch-CycleGAN-and-pix2pix/datasets/nanya_temp'\n",
    "def make_dirs(root):\n",
    "    os.makedirs(os.path.join(root, 'trainA'), exist_ok=True)\n",
    "    os.makedirs(os.path.join(root, 'trainB'), exist_ok=True)\n",
    "    os.makedirs(os.path.join(root, 'valA'), exist_ok=True)\n",
    "    os.makedirs(os.path.join(root, 'valB'), exist_ok=True)\n",
    "make_dirs(root=root)"
   ]
  },
  {
   "cell_type": "code",
   "execution_count": 30,
   "metadata": {},
   "outputs": [],
   "source": [
    "import shutil\n",
    "\n",
    "def move_files(fileList, train=True):\n",
    "    for i in fileList:\n",
    "        temp = i.replace('imgData', 'template')\n",
    "        if train:\n",
    "            A_path = os.path.join(root, 'trainA')\n",
    "            B_path = os.path.join(root, 'trainB')\n",
    "        else:\n",
    "            A_path = os.path.join(root, 'valA')\n",
    "            B_path = os.path.join(root, 'valB')\n",
    "        shutil.move(i, A_path)\n",
    "        shutil.move(temp, B_path)"
   ]
  },
  {
   "cell_type": "code",
   "execution_count": 31,
   "metadata": {},
   "outputs": [],
   "source": [
    "# write txt\n",
    "# move_files(trainList)\n",
    "move_files(valList, train=False)"
   ]
  }
 ],
 "metadata": {
  "kernelspec": {
   "display_name": "Python 3 (ipykernel)",
   "language": "python",
   "name": "python3"
  },
  "language_info": {
   "codemirror_mode": {
    "name": "ipython",
    "version": 3
   },
   "file_extension": ".py",
   "mimetype": "text/x-python",
   "name": "python",
   "nbconvert_exporter": "python",
   "pygments_lexer": "ipython3",
   "version": "3.9.6"
  },
  "orig_nbformat": 4
 },
 "nbformat": 4,
 "nbformat_minor": 2
}

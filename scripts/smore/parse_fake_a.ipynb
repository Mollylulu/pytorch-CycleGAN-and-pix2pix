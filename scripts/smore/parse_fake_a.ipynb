{
 "cells": [
  {
   "cell_type": "code",
   "execution_count": 1,
   "metadata": {},
   "outputs": [],
   "source": [
    "from pathlib import Path\n",
    "import shutil\n",
    "\n",
    "cycle_results = '/data/home/lunaluo/git/pytorch-CycleGAN-and-pix2pix/results/nanya_cycle/test_latest'\n",
    "cycle_path = Path(cycle_results)"
   ]
  },
  {
   "cell_type": "code",
   "execution_count": 11,
   "metadata": {},
   "outputs": [],
   "source": [
    "cycle_fake_A_imgs = cycle_path.rglob('*_fake_A.png')\n",
    "cycle_fake_A_str = list(map(lambda x:x.as_posix(), cycle_fake_A_imgs))\n"
   ]
  },
  {
   "cell_type": "code",
   "execution_count": null,
   "metadata": {},
   "outputs": [],
   "source": [
    "usl_dir = '/data/home/lunaluo/git/pytorch-CycleGAN-and-pix2pix/results/nanya_usl_cycle'\n",
    "for fake in cycle_fake_A_str:\n",
    "    shutil.copy(fake, )"
   ]
  }
 ],
 "metadata": {
  "kernelspec": {
   "display_name": "Python 3.8.10 64-bit ('dnsm': conda)",
   "language": "python",
   "name": "python3810jvsc74a57bd0f559cc627b252a15c4c70bc632e40affb38e9712ea6f0742bbcf2a1c57b8edd4"
  },
  "language_info": {
   "codemirror_mode": {
    "name": "ipython",
    "version": 3
   },
   "file_extension": ".py",
   "mimetype": "text/x-python",
   "name": "python",
   "nbconvert_exporter": "python",
   "pygments_lexer": "ipython3",
   "version": "3.8.10"
  },
  "orig_nbformat": 4
 },
 "nbformat": 4,
 "nbformat_minor": 2
}

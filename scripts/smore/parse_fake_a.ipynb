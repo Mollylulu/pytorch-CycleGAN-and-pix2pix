{
 "cells": [
  {
   "cell_type": "code",
   "execution_count": null,
   "metadata": {},
   "outputs": [],
   "source": [
    "from pathlib import Path\n",
    "import shutil\n",
    "\n",
    "cycle_results = '/data/home/lunaluo/git/pytorch-CycleGAN-and-pix2pix/results/nanya_cycle/test_latest'\n",
    "cycle_path = Path(cycle_results)"
   ]
  }
 ],
 "metadata": {
  "kernelspec": {
   "display_name": "Python 3.8.10 64-bit ('dnsm': conda)",
   "name": "python3810jvsc74a57bd0f559cc627b252a15c4c70bc632e40affb38e9712ea6f0742bbcf2a1c57b8edd4"
  },
  "language_info": {
   "name": "python",
   "version": "3.8.10"
  },
  "orig_nbformat": 4
 },
 "nbformat": 4,
 "nbformat_minor": 2
}
